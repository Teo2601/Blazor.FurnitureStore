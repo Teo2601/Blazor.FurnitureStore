{
  "nbformat": 4,
  "nbformat_minor": 0,
  "metadata": {
    "colab": {
      "provenance": [],
      "authorship_tag": "ABX9TyMbhp9fHgpQ2GPh5ugwcRWF",
      "include_colab_link": true
    },
    "kernelspec": {
      "name": "python3",
      "display_name": "Python 3"
    },
    "language_info": {
      "name": "python"
    }
  },
  "cells": [
    {
      "cell_type": "markdown",
      "metadata": {
        "id": "view-in-github",
        "colab_type": "text"
      },
      "source": [
        "<a href=\"https://colab.research.google.com/github/Teo2601/Blazor.FurnitureStore/blob/master/Biseccion.ipynb\" target=\"_parent\"><img src=\"https://colab.research.google.com/assets/colab-badge.svg\" alt=\"Open In Colab\"/></a>"
      ]
    },
    {
      "cell_type": "code",
      "execution_count": 1,
      "metadata": {
        "colab": {
          "base_uri": "https://localhost:8080/"
        },
        "id": "ash4W9YPWaCW",
        "outputId": "1ca1e741-44e7-4c88-c864-33415a5bfa4a"
      },
      "outputs": [
        {
          "output_type": "stream",
          "name": "stdout",
          "text": [
            "+-----------+---------+-------+----------+---------------------+----------------------+\n",
            "| Iteración |    a    |   b   |    c     |         f(c)        |        error         |\n",
            "+-----------+---------+-------+----------+---------------------+----------------------+\n",
            "|     1     |   2.0   |   3   |   2.5    |        5.625        |         0.2          |\n",
            "|     2     |   2.0   |  2.5  |   2.25   |       1.890625      |  0.1111111111111111  |\n",
            "|     3     |   2.0   |  2.25 |  2.125   |     0.345703125     | 0.058823529411764705 |\n",
            "|     4     |   2.0   | 2.125 |  2.0625  |   -0.351318359375   | 0.030303030303030304 |\n",
            "|     5     |  2.0625 | 2.125 | 2.09375  |  -0.008941650390625 | 0.014925373134328358 |\n",
            "|     6     | 2.09375 | 2.125 | 2.109375 | 0.16683578491210938 | 0.007407407407407408 |\n",
            "+-----------+---------+-------+----------+---------------------+----------------------+\n",
            "El resultado de la bisección es:  2.109375\n"
          ]
        }
      ],
      "source": [
        "from prettytable import PrettyTable\n",
        "\n",
        "def f(x):\n",
        "    return x**3 - 2*x - 5  # función f(x)\n",
        "\n",
        "def biseccion(a, b, tol, max_iter):\n",
        "    # Inicialización de variables\n",
        "    iteracion = 1\n",
        "    error = tol + 1\n",
        "    c = (a + b) / 2\n",
        "    \n",
        "    # Crear tabla\n",
        "    table = PrettyTable()\n",
        "    table.field_names = [\"Iteración\", \"a\", \"b\", \"c\", \"f(c)\", \"error\"]\n",
        "    \n",
        "    # Iteración del método de la bisección\n",
        "    while f(c) != 0 and error > tol and iteracion <= max_iter:\n",
        "        if f(a)*f(c) < 0:\n",
        "            b = c\n",
        "        else:\n",
        "            a = c\n",
        "        c_anterior = c\n",
        "        c = (a + b) / 2\n",
        "        error = abs((c - c_anterior) / c)\n",
        "        \n",
        "        # Agregar fila a la tabla\n",
        "        table.add_row([iteracion, a, b, c, f(c), error])\n",
        "        \n",
        "        iteracion += 1\n",
        "    \n",
        "    # Imprimir la tabla\n",
        "    print(table)\n",
        "\n",
        "    # Retornar el valor de c como resultado\n",
        "    return c\n",
        "\n",
        "# Ejemplo de uso\n",
        "a = 1\n",
        "b = 3\n",
        "tol = 0.01\n",
        "max_iter = 100\n",
        "resultado = biseccion(a, b, tol, max_iter)\n",
        "print(\"El resultado de la bisección es: \", resultado)"
      ]
    }
  ]
}